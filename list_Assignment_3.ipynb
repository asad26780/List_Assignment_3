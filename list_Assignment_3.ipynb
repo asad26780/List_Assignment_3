{
 "cells": [
  {
   "cell_type": "code",
   "execution_count": 2,
   "id": "f95caf2e",
   "metadata": {},
   "outputs": [
    {
     "name": "stdout",
     "output_type": "stream",
     "text": [
      "['apple', 'banana', 'orange', 'grape', 'kiwi']\n",
      "['apple', 'banana', 'orange', 'grape', 'kiwi', 'pear']\n",
      "['apple', 'mango', 'banana', 'orange', 'grape', 'kiwi', 'pear']\n",
      "['apple', 'mango', 'banana', 'grape', 'kiwi', 'pear']\n"
     ]
    }
   ],
   "source": [
    "# a) Create a list named fruits\n",
    "fruits = [\"apple\", \"banana\", \"orange\", \"grape\", \"kiwi\"]\n",
    "print(fruits)\n",
    "\n",
    "# b) Add \"pear\" to the end of the list\n",
    "fruits.append(\"pear\")\n",
    "print(fruits)\n",
    "\n",
    "# c) Insert \"mango\" at the second position in the list\n",
    "fruits.insert(1, \"mango\")\n",
    "print(fruits)\n",
    "\n",
    "# d) Remove \"orange\" from the list\n",
    "fruits.remove(\"orange\")\n",
    "print(fruits)"
   ]
  },
  {
   "cell_type": "code",
   "execution_count": 3,
   "id": "268db09a",
   "metadata": {},
   "outputs": [
    {
     "name": "stdout",
     "output_type": "stream",
     "text": [
      "[0, 1, 2, 3, 4, 5, 6, 7, 8, 9]\n",
      "3\n",
      "[2, 3, 4, 5, 6]\n",
      "[7, 8, 9]\n"
     ]
    }
   ],
   "source": [
    "# Question 2: Slicing and Indexing\n",
    "# a) Create a list named numbers\n",
    "numbers = list(range(10))\n",
    "print(numbers)\n",
    "# b) Print the element at index 3\n",
    "print(numbers[3])\n",
    "# c) Print a sublist containing elements from index 2 to 6 (inclusive)\n",
    "print(numbers[2:7])\n",
    "# d) Print the last three elements using negative indexing\n",
    "print(numbers[-3:])"
   ]
  },
  {
   "cell_type": "code",
   "execution_count": 4,
   "id": "9b050c1d",
   "metadata": {},
   "outputs": [
    {
     "name": "stdout",
     "output_type": "stream",
     "text": [
      "[1, 4, 9, 16, 25, 36, 49, 64, 81, 100]\n",
      "[4, 16, 36, 64, 100]\n"
     ]
    }
   ],
   "source": [
    "# Question 3: List Comprehension\n",
    "# a) Create a list named squares containing the squares of numbers from 1 to 10\n",
    "squares = [x**2 for x in range(1, 11)]\n",
    "print(squares)\n",
    "# b) Create a new list named even_squares containing the squares of even numbers from the squares list\n",
    "even_squares = [x for x in squares if x % 2 == 0]\n",
    "print(even_squares)"
   ]
  },
  {
   "cell_type": "code",
   "execution_count": 5,
   "id": "1109a9d5",
   "metadata": {},
   "outputs": [
    {
     "name": "stdout",
     "output_type": "stream",
     "text": [
      "['red', 'green', 'blue', 'yellow', 'purple']\n",
      "['purple', 'green', 'blue', 'yellow', 'red']\n",
      "['red', 'yellow', 'blue', 'green', 'purple']\n",
      "['red', 'green', 'purple']\n"
     ]
    }
   ],
   "source": [
    "# Question 4: List Manipulation\n",
    "# a) Create a list named colors\n",
    "colors = [\"red\", \"green\", \"blue\", \"yellow\", \"purple\"]\n",
    "print(colors)\n",
    "# b) Swap the first and last elements of the list\n",
    "colors[0], colors[-1] = colors[-1], colors[0]\n",
    "print(colors)\n",
    "# c) Reverse the order of the list\n",
    "colors.reverse()\n",
    "print(colors)\n",
    "# d) Remove the second and third elements from the list\n",
    "del colors[1:3]\n",
    "print(colors)"
   ]
  },
  {
   "cell_type": "code",
   "execution_count": 6,
   "id": "8f9a900c",
   "metadata": {},
   "outputs": [
    {
     "name": "stdout",
     "output_type": "stream",
     "text": [
      "['a', 'b', 'c', 'd', 'e', 'f', 'g', 'h', 'i', 'j']\n",
      "['a', 'b', 'c', 'd', 'e']\n",
      "['h', 'i', 'j']\n"
     ]
    }
   ],
   "source": [
    "# Question 5: Advanced Slicing\n",
    "# a) Create a list named letters containing the letters from 'a' to 'j'\n",
    "letters = list(\"abcdefghij\")\n",
    "print(letters)\n",
    "# b) Using slicing, create a new list first_half containing the first half of the letters list\n",
    "first_half = letters[:len(letters)//2]\n",
    "print(first_half)\n",
    "# c) Using slicing, create a new list last_three containing the last three elements of the letters list\n",
    "last_three = letters[-3:]\n",
    "print(last_three)"
   ]
  },
  {
   "cell_type": "code",
   "execution_count": 7,
   "id": "ad85d38c",
   "metadata": {},
   "outputs": [
    {
     "name": "stdout",
     "output_type": "stream",
     "text": [
      "[[1, 2, 3], [4, 5, 6], [7, 8, 9]]\n",
      "6\n",
      "[[1, 2, 3], [0, 5, 6], [7, 8, 9]]\n",
      "[1, 2, 3]\n",
      "[0, 5, 6]\n",
      "[7, 8, 9]\n"
     ]
    }
   ],
   "source": [
    "# Question 6: Nested Lists\n",
    "# a) Create a nested list named matrix\n",
    "matrix = [\n",
    "    [1, 2, 3],\n",
    "    [4, 5, 6],\n",
    "    [7, 8, 9]\n",
    "]\n",
    "print(matrix)\n",
    "# b) Print the element in the second row and third column\n",
    "print(matrix[1][2])\n",
    "\n",
    "# c) Use nested indexing to change the value at the second row and first column to 0\n",
    "matrix[1][0] = 0\n",
    "print(matrix)\n",
    "# Print the updated matrix\n",
    "for row in matrix:\n",
    "    print(row)"
   ]
  }
 ],
 "metadata": {
  "kernelspec": {
   "display_name": "Python 3 (ipykernel)",
   "language": "python",
   "name": "python3"
  },
  "language_info": {
   "codemirror_mode": {
    "name": "ipython",
    "version": 3
   },
   "file_extension": ".py",
   "mimetype": "text/x-python",
   "name": "python",
   "nbconvert_exporter": "python",
   "pygments_lexer": "ipython3",
   "version": "3.11.3"
  }
 },
 "nbformat": 4,
 "nbformat_minor": 5
}
